{
 "cells": [
  {
   "cell_type": "code",
   "execution_count": 204,
   "metadata": {
    "collapsed": false
   },
   "outputs": [],
   "source": [
    "import pandas as pd\n",
    "import math\n",
    "import datetime"
   ]
  },
  {
   "cell_type": "code",
   "execution_count": 205,
   "metadata": {
    "collapsed": true
   },
   "outputs": [],
   "source": [
    "def decode(point_str):\n",
    "    '''Decodes a polyline that has been encoded using Google's algorithm\n",
    "    http://code.google.com/apis/maps/documentation/polylinealgorithm.html\n",
    "    \n",
    "    This is a generic method that returns a list of (latitude, longitude) \n",
    "    tuples.\n",
    "    \n",
    "    :param point_str: Encoded polyline string.\n",
    "    :type point_str: string\n",
    "    :returns: List of 2-tuples where each tuple is (latitude, longitude)\n",
    "    :rtype: list\n",
    "    \n",
    "    '''\n",
    "            \n",
    "    # sone coordinate offset is represented by 4 to 5 binary chunks\n",
    "    coord_chunks = [[]]\n",
    "    for char in point_str:\n",
    "        \n",
    "        # convert each character to decimal from ascii\n",
    "        value = ord(char) - 63\n",
    "        \n",
    "        # values that have a chunk following have an extra 1 on the left\n",
    "        split_after = not (value & 0x20)         \n",
    "        value &= 0x1F\n",
    "        \n",
    "        coord_chunks[-1].append(value)\n",
    "        \n",
    "        if split_after:\n",
    "                coord_chunks.append([])\n",
    "        \n",
    "    del coord_chunks[-1]\n",
    "    \n",
    "    coords = []\n",
    "    \n",
    "    for coord_chunk in coord_chunks:\n",
    "        coord = 0\n",
    "        \n",
    "        for i, chunk in enumerate(coord_chunk):                    \n",
    "            coord |= chunk << (i * 5) \n",
    "        \n",
    "        #there is a 1 on the right if the coord is negative\n",
    "        if coord & 0x1:\n",
    "            coord = ~coord #invert\n",
    "        coord >>= 1\n",
    "        coord /= 100000.0\n",
    "                    \n",
    "        coords.append(coord)\n",
    "    \n",
    "    # convert the 1 dimensional list to a 2 dimensional list and offsets to \n",
    "    # actual values\n",
    "    points = []\n",
    "    prev_x = 0\n",
    "    prev_y = 0\n",
    "    for i in range(0, len(coords) - 1, 2):\n",
    "        if coords[i] == 0 and coords[i + 1] == 0:\n",
    "            continue\n",
    "        \n",
    "        prev_x += coords[i + 1]\n",
    "        prev_y += coords[i]\n",
    "        # a round to 6 digits ensures that the floats are the same as when \n",
    "        # they were encoded\n",
    "        points.append((round(prev_y, 6), round(prev_x, 6)))\n",
    "    \n",
    "    return points"
   ]
  },
  {
   "cell_type": "code",
   "execution_count": 206,
   "metadata": {
    "collapsed": false
   },
   "outputs": [],
   "source": [
    "def create_carto_df(df):\n",
    "    carto_df = pd.DataFrame()\n",
    "    for index, row in df.iterrows():\n",
    "        for endpoint in ['Start', 'End']:\n",
    "            geocode_points = decode(row['Polyline'])\n",
    "            geocode_points = geocode_points if endpoint == 'Start' else list(reversed(geocode_points))\n",
    "            df_route = pd.DataFrame(geocode_points, columns = ['lat', 'lng'])\n",
    "            df_route['lat_shift'] = df_route['lat'].shift(1).fillna(0)\n",
    "            df_route['lng_shift'] = df_route['lng'].shift(1).fillna(0)\n",
    "            df_route['euclidean_distance'] = df_route.apply(lambda x: math.sqrt((x['lat_shift'] - x['lat'])**2 + (x['lng_shift'] - x['lng'])**2), axis = 1)\n",
    "            df_route.set_value(0,'euclidean_distance', 0)\n",
    "            df_route['dist_prop'] = 1.0*df_route['euclidean_distance'].cumsum()/df_route['euclidean_distance'].sum()\n",
    "            day_columns = [col for col in df.columns if endpoint in col and '-' in col]\n",
    "            duration = row[endpoint + ' Duration']\n",
    "            df_route = df_route.drop(['lat_shift', 'lng_shift', 'euclidean_distance'], axis = 1)\n",
    "            route = row['Route']\n",
    "            for i, day in enumerate(day_columns):\n",
    "                times = row[day].replace('[', '').replace(']','').split(',')\n",
    "                for time in times:\n",
    "                    if time != '':\n",
    "                        df_route_time = df_route.copy()\n",
    "                        hour = int(time.split(':')[0])\n",
    "                        minute = int(time.split(':')[1])\n",
    "                        start_time = datetime.datetime(2017,5,(1+i),hour,minute,0)\n",
    "                        df_route_time['timestamp'] = df_route_time['dist_prop'].apply(lambda x: start_time + datetime.timedelta(minutes=(x * duration)))\n",
    "                        df_route_time = df_route_time.drop('dist_prop', axis = 1)\n",
    "                        df_route_time['Route'] = df_route_time['timestamp'].apply(lambda x: route)\n",
    "                        df_route_time['Duration'] = df_route_time['timestamp'].apply(lambda x: duration)\n",
    "                        carto_df = pd.concat([carto_df, df_route_time])\n",
    "        print(\"{0} out of {1} Complete\".format(index + 1, df.shape[0]))\n",
    "    carto_df = carto_df.reset_index().drop('index', axis = 1)\n",
    "    return carto_df"
   ]
  },
  {
   "cell_type": "code",
   "execution_count": 207,
   "metadata": {
    "collapsed": true
   },
   "outputs": [],
   "source": [
    "def records_to_filter(row):\n",
    "    routes = ['Capitol Corridor', 'Texas Eagle', 'Pacific Surfliner']\n",
    "    if row['Route'] in routes:\n",
    "        if row['timestamp'].day == 1 and row['timestamp'].hour < 4:\n",
    "            return True\n",
    "    if row['timestamp'].day > 7:\n",
    "        return True\n",
    "    return False"
   ]
  },
  {
   "cell_type": "code",
   "execution_count": 208,
   "metadata": {
    "collapsed": true
   },
   "outputs": [],
   "source": [
    "df = pd.read_csv('Routes Polylines and Times.csv')"
   ]
  },
  {
   "cell_type": "code",
   "execution_count": 209,
   "metadata": {
    "collapsed": false,
    "scrolled": true
   },
   "outputs": [
    {
     "name": "stdout",
     "output_type": "stream",
     "text": [
      "1 out of 61 Complete\n",
      "2 out of 61 Complete\n",
      "3 out of 61 Complete\n",
      "4 out of 61 Complete\n",
      "5 out of 61 Complete\n",
      "6 out of 61 Complete\n",
      "7 out of 61 Complete\n",
      "8 out of 61 Complete\n",
      "9 out of 61 Complete\n",
      "10 out of 61 Complete\n",
      "11 out of 61 Complete\n",
      "12 out of 61 Complete\n",
      "13 out of 61 Complete\n",
      "14 out of 61 Complete\n",
      "15 out of 61 Complete\n",
      "16 out of 61 Complete\n",
      "17 out of 61 Complete\n",
      "18 out of 61 Complete\n",
      "19 out of 61 Complete\n",
      "20 out of 61 Complete\n",
      "21 out of 61 Complete\n",
      "22 out of 61 Complete\n",
      "23 out of 61 Complete\n",
      "24 out of 61 Complete\n",
      "25 out of 61 Complete\n",
      "26 out of 61 Complete\n",
      "27 out of 61 Complete\n",
      "28 out of 61 Complete\n",
      "29 out of 61 Complete\n",
      "30 out of 61 Complete\n",
      "31 out of 61 Complete\n",
      "32 out of 61 Complete\n",
      "33 out of 61 Complete\n",
      "34 out of 61 Complete\n",
      "35 out of 61 Complete\n",
      "36 out of 61 Complete\n",
      "37 out of 61 Complete\n",
      "38 out of 61 Complete\n",
      "39 out of 61 Complete\n",
      "40 out of 61 Complete\n",
      "41 out of 61 Complete\n",
      "42 out of 61 Complete\n",
      "43 out of 61 Complete\n",
      "44 out of 61 Complete\n",
      "45 out of 61 Complete\n",
      "46 out of 61 Complete\n",
      "47 out of 61 Complete\n",
      "48 out of 61 Complete\n",
      "49 out of 61 Complete\n",
      "50 out of 61 Complete\n",
      "51 out of 61 Complete\n",
      "52 out of 61 Complete\n",
      "53 out of 61 Complete\n",
      "54 out of 61 Complete\n",
      "55 out of 61 Complete\n",
      "56 out of 61 Complete\n",
      "57 out of 61 Complete\n",
      "58 out of 61 Complete\n",
      "59 out of 61 Complete\n",
      "60 out of 61 Complete\n",
      "61 out of 61 Complete\n"
     ]
    }
   ],
   "source": [
    "carto_df = create_carto_df(df)"
   ]
  },
  {
   "cell_type": "code",
   "execution_count": 210,
   "metadata": {
    "collapsed": false
   },
   "outputs": [
    {
     "name": "stdout",
     "output_type": "stream",
     "text": [
      "(547002, 5)\n"
     ]
    },
    {
     "data": {
      "text/html": [
       "<div>\n",
       "<table border=\"1\" class=\"dataframe\">\n",
       "  <thead>\n",
       "    <tr style=\"text-align: right;\">\n",
       "      <th></th>\n",
       "      <th>lat</th>\n",
       "      <th>lng</th>\n",
       "      <th>timestamp</th>\n",
       "      <th>Route</th>\n",
       "      <th>Duration</th>\n",
       "    </tr>\n",
       "  </thead>\n",
       "  <tbody>\n",
       "    <tr>\n",
       "      <th>0</th>\n",
       "      <td>40.75033</td>\n",
       "      <td>-73.99446</td>\n",
       "      <td>2017-05-01 08:15:00.000000</td>\n",
       "      <td>Adirondack</td>\n",
       "      <td>656</td>\n",
       "    </tr>\n",
       "    <tr>\n",
       "      <th>1</th>\n",
       "      <td>40.75432</td>\n",
       "      <td>-74.00292</td>\n",
       "      <td>2017-05-01 08:16:02.461654</td>\n",
       "      <td>Adirondack</td>\n",
       "      <td>656</td>\n",
       "    </tr>\n",
       "    <tr>\n",
       "      <th>2</th>\n",
       "      <td>40.75941</td>\n",
       "      <td>-73.99681</td>\n",
       "      <td>2017-05-01 08:16:55.565584</td>\n",
       "      <td>Adirondack</td>\n",
       "      <td>656</td>\n",
       "    </tr>\n",
       "    <tr>\n",
       "      <th>3</th>\n",
       "      <td>40.77389</td>\n",
       "      <td>-73.98985</td>\n",
       "      <td>2017-05-01 08:18:42.849384</td>\n",
       "      <td>Adirondack</td>\n",
       "      <td>656</td>\n",
       "    </tr>\n",
       "    <tr>\n",
       "      <th>4</th>\n",
       "      <td>40.82071</td>\n",
       "      <td>-73.95887</td>\n",
       "      <td>2017-05-01 08:24:57.748478</td>\n",
       "      <td>Adirondack</td>\n",
       "      <td>656</td>\n",
       "    </tr>\n",
       "  </tbody>\n",
       "</table>\n",
       "</div>"
      ],
      "text/plain": [
       "        lat       lng                  timestamp       Route  Duration\n",
       "0  40.75033 -73.99446 2017-05-01 08:15:00.000000  Adirondack       656\n",
       "1  40.75432 -74.00292 2017-05-01 08:16:02.461654  Adirondack       656\n",
       "2  40.75941 -73.99681 2017-05-01 08:16:55.565584  Adirondack       656\n",
       "3  40.77389 -73.98985 2017-05-01 08:18:42.849384  Adirondack       656\n",
       "4  40.82071 -73.95887 2017-05-01 08:24:57.748478  Adirondack       656"
      ]
     },
     "execution_count": 210,
     "metadata": {},
     "output_type": "execute_result"
    }
   ],
   "source": [
    "print(carto_df.shape)\n",
    "carto_df.head()"
   ]
  },
  {
   "cell_type": "code",
   "execution_count": 211,
   "metadata": {
    "collapsed": false
   },
   "outputs": [],
   "source": [
    "carto_df['to_filter'] = carto_df.apply(lambda x: records_to_filter(x), axis = 1)\n",
    "carto_df = carto_df[carto_df['to_filter'] == False]\n",
    "carto_df = carto_df.drop('to_filter', axis = 1)"
   ]
  },
  {
   "cell_type": "code",
   "execution_count": 212,
   "metadata": {
    "collapsed": true
   },
   "outputs": [],
   "source": [
    "carto_df.to_csv('amtrak_carto_full.csv', index = False)"
   ]
  }
 ],
 "metadata": {
  "kernelspec": {
   "display_name": "Python 3",
   "language": "python",
   "name": "python3"
  },
  "language_info": {
   "codemirror_mode": {
    "name": "ipython",
    "version": 3
   },
   "file_extension": ".py",
   "mimetype": "text/x-python",
   "name": "python",
   "nbconvert_exporter": "python",
   "pygments_lexer": "ipython3",
   "version": "3.6.0"
  }
 },
 "nbformat": 4,
 "nbformat_minor": 2
}
